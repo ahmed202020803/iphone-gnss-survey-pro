{
  "cells": [
    {
      "cell_type": "markdown",
      "metadata": {
        "id": "view-in-github"
      },
      "source": [
        "# iPhone GNSS Survey Pro - Google Colab Example\n",
        "\n",
        "This notebook demonstrates how to use the iPhone GNSS Survey Pro tool in Google Colab."
      ]
    },
    {
      "cell_type": "markdown",
      "metadata": {},
      "source": [
        "## Setup\n",
        "\n",
        "First, let's clone the repository and install the required dependencies."
      ]
    },
    {
      "cell_type": "code",
      "execution_count": null,
      "metadata": {},
      "outputs": [],
      "source": [
        "# Clone the repository\n",
        "!git clone https://github.com/ahmed202020803/iphone-gnss-survey-pro.git\n",
        "%cd iphone-gnss-survey-pro"
      ]
    },
    {
      "cell_type": "code",
      "execution_count": null,
      "metadata": {},
      "outputs": [],
      "source": [
        "# Install dependencies\n",
        "!pip install -r requirements.txt\n",
        "\n",
        "# Install system dependencies\n",
        "!apt-get update\n",
        "!apt-get install -y ffmpeg exiftool"
      ]
    },
    {
      "cell_type": "markdown",
      "metadata": {},
      "source": [
        "## Import the module"
      ]
    },
    {
      "cell_type": "code",
      "execution_count": null,
      "metadata": {},
      "outputs": [],
      "source": [
        "import sys\n",
        "sys.path.append('.')\n",
        "\n",
        "from iphone_gnss_survey import run_in_colab"
      ]
    },
    {
      "cell_type": "markdown",
      "metadata": {},
      "source": [
        "## Run the interactive survey tool\n",
        "\n",
        "This will guide you through the process of uploading your video file and configuring the survey settings."
      ]
    },
    {
      "cell_type": "code",
      "execution_count": null,
      "metadata": {},
      "outputs": [],
      "source": [
        "run_in_colab()"
      ]
    },
    {
      "cell_type": "markdown",
      "metadata": {},
      "source": [
        "## Alternative: Run with specific parameters\n",
        "\n",
        "If you prefer to set the parameters programmatically, you can use the `run_video_gnss_survey` function directly."
      ]
    },
    {
      "cell_type": "code",
      "execution_count": null,
      "metadata": {},
      "outputs": [],
      "source": [
        "from iphone_gnss_survey import run_video_gnss_survey\n",
        "from google.colab import files\n",
        "\n",
        "# Upload video file\n",
        "uploaded = files.upload()\n",
        "video_path = list(uploaded.keys())[0]\n",
        "\n",
        "# Run the survey with specific parameters\n",
        "report_path = run_video_gnss_survey(\n",
        "    video_path=video_path,\n",
        "    use_sample_data=True,  # Use sample GNSS data\n",
        "    pole_height=1.5,       # Camera pole height in meters\n",
        "    frame_interval=0.5,    # Extract frame every 0.5 seconds\n",
        "    indoor_mode=True       # Enable indoor positioning mode\n",
        ")"
      ]
    },
    {
      "cell_type": "markdown",
      "metadata": {},
      "source": [
        "## View and download the results\n",
        "\n",
        "After processing is complete, you can view and download the generated files."
      ]
    },
    {
      "cell_type": "code",
      "execution_count": null,
      "metadata": {},
      "outputs": [],
      "source": [
        "# List the output files\n",
        "!ls -la survey_output/\n",
        "\n",
        "# Create a zip file with all results\n",
        "!zip -r survey_results.zip survey_output/\n",
        "\n",
        "# Download the zip file\n",
        "from google.colab import files\n",
        "files.download('survey_results.zip')"
      ]
    }
  ],
  "metadata": {
    "colab": {
      "collapsed_sections": [],
      "name": "iPhone GNSS Survey Pro - Example.ipynb",
      "provenance": []
    },
    "kernelspec": {
      "display_name": "Python 3",
      "name": "python3"
    },
    "language_info": {
      "name": "python"
    }
  },
  "nbformat": 4,
  "nbformat_minor": 0
}